{
 "cells": [
  {
   "cell_type": "code",
   "execution_count": 1,
   "metadata": {
    "collapsed": false
   },
   "outputs": [
    {
     "ename": "SyntaxError",
     "evalue": "invalid syntax (<ipython-input-1-7fdc7354a439>, line 67)",
     "output_type": "error",
     "traceback": [
      "\u001b[0;36m  File \u001b[0;32m\"<ipython-input-1-7fdc7354a439>\"\u001b[0;36m, line \u001b[0;32m67\u001b[0m\n\u001b[0;31m    for next in self.board.pass_through[]:\u001b[0m\n\u001b[0m                                        ^\u001b[0m\n\u001b[0;31mSyntaxError\u001b[0m\u001b[0;31m:\u001b[0m invalid syntax\n"
     ]
    }
   ],
   "source": [
    "import collections\n",
    "from board_graph import Board \n",
    "\n",
    "class Queue:\n",
    "    def __init__(self):\n",
    "        self.elements = collections.deque()\n",
    "    \n",
    "    def empty(self):\n",
    "        return len(self.elements) == 0\n",
    "    \n",
    "    def put(self, x):\n",
    "        self.elements.append(x)\n",
    "    \n",
    "    def get(self):\n",
    "        return self.elements.popleft()\n",
    "\n",
    "class Piece:\n",
    "\tcounter = 0\n",
    "\tdef __init__(self, owner, board, location):\n",
    "\t\tself.owner = owner\n",
    "\t\tself.board = board\n",
    "\t\tself.location = location\n",
    "\t\tself.index = counter\n",
    "\t\tcounter += 1\n",
    "\n",
    "class Pawn(Piece):\n",
    "\tdef __init__(self, owner, board, location, front):\n",
    "\t\tsuper(owner, board, location)\n",
    "\t\tself.front = front\n",
    "\t\tself.check_options\n",
    "\n",
    "\tdef check_options(self):\n",
    "\t\tself.options = {}\n",
    "\t\tfor j in self.front:\n",
    "\t\t\tif j not in self.board.pieces.keys:\n",
    "\t\t\t\tself.options.update({front: 'm'})\n",
    "\t\t\tfor i in list(self.board.edge_neighbors[j] & self.board.vertex_neighbors[self.location]):\n",
    "\t\t\t\tif (i in self.board.pieces.keys) and (self.board.pieces[i].owner != self.owner):\n",
    "\t\t\t\t\tself.options.update({i: 'c'})\n",
    "\n",
    "\tdef move(self, target):\n",
    "\t\tself.front = self.board.pass_through[(self.location, target)]\n",
    "\t\tself.location = target\n",
    "\t\tself.check_options()\n",
    "\n",
    "\tdef capture(self, target):\n",
    "\t\tfake_history = set(self.board.edge_neighbors[self.location] & (set(self.board.edge_neighbors[self.target]) - set(self.front)))\n",
    "\t\tself.front = self.board.pass_through[(fake_history, target)]\n",
    "\t\tself.location = target\n",
    "\t\tself.board.pieces[target].location = False\n",
    "\t\tself.board.pieces[target] = self\n",
    "\t\tdel self.board.pieces[location]\n",
    "\t\tself.check_options()\n",
    "\n",
    "class Rook(Piece):\n",
    "\tdef __init__(self, owner, board, location):\n",
    "\t\tsuper(owner, board, location)\n",
    "\t\tself.check_options()\n",
    "\n",
    "\tdef check_options(self):\n",
    "\t\tfrontier = Queue()\n",
    "\t\tfrontier.put(self.location)\n",
    "\n",
    "\t\twhile not frontier.empty():\n",
    "\t\t\tcurrent = frontier.get()\n",
    "\t\t\tprint('visiting %r' % current)\n",
    "\t\t\tfor next in self.board.pass_through[]:\n",
    "\n",
    "\t\tfor i in self.board.edge_neighbors[self.location]:\n",
    "\t\t\tfrontier = Queue()\n",
    "\t\t\tfrontier.put(self.location)\n",
    "\t\t\tdirection = (self.location, i)\n",
    "\t\t\twhile i in self.board.name_to_id.keys() and i not in self.board.pieces[self.location]:\n",
    "\t\t\t\tself.options.update({ i : 'm' })\n",
    "\t\t\t\tdirection = (direction[1], i)\n",
    "\t\t\t\ti = \n",
    "\t\t\telse:\n",
    "\t\t\t\tif i in self \n",
    "\n",
    "def breadth_first_search_1(direction, start):\n",
    "    # print out what we find\n",
    "    frontier = Queue()\n",
    "    frontier.put(start)\n",
    "    visited = {}\n",
    "    visited[start] = True\n",
    "    \n",
    "    while not frontier.empty():\n",
    "        current = frontier.get()\n",
    "        print(\"Visiting %r\" % current)\n",
    "        for next in direction[current]:\n",
    "            if next not in visited:\n",
    "                frontier.put(next)\n",
    "                visited[next] = True\n",
    "\n",
    "\treturn came_from\n",
    "\n",
    "if __name__ == '__main__':\n",
    "\tb = Board.square_grid((4,4))\n",
    "\tprint(b)\n",
    "\tr = Rook(1, b, 1)\n",
    "\tprint(r.options)\n",
    "\tp = Pawn(1, b, 1)\n",
    "\tprint(p.options)"
   ]
  },
  {
   "cell_type": "code",
   "execution_count": 3,
   "metadata": {
    "collapsed": false
   },
   "outputs": [
    {
     "ename": "NameError",
     "evalue": "name 'Pawn' is not defined",
     "output_type": "error",
     "traceback": [
      "\u001b[0;31m---------------------------------------------------------------------------\u001b[0m",
      "\u001b[0;31mNameError\u001b[0m                                 Traceback (most recent call last)",
      "\u001b[0;32m<ipython-input-3-17e1f22c7f8a>\u001b[0m in \u001b[0;36m<module>\u001b[0;34m()\u001b[0m\n\u001b[0;32m----> 1\u001b[0;31m \u001b[0mp\u001b[0m \u001b[0;34m=\u001b[0m \u001b[0mPawn\u001b[0m\u001b[0;34m(\u001b[0m\u001b[0;34m)\u001b[0m\u001b[0;34m\u001b[0m\u001b[0m\n\u001b[0m",
      "\u001b[0;31mNameError\u001b[0m: name 'Pawn' is not defined"
     ]
    }
   ],
   "source": [
    "p = Pawn()"
   ]
  },
  {
   "cell_type": "code",
   "execution_count": null,
   "metadata": {
    "collapsed": true
   },
   "outputs": [],
   "source": []
  }
 ],
 "metadata": {
  "kernelspec": {
   "display_name": "Python 3",
   "language": "python",
   "name": "python3"
  },
  "language_info": {
   "codemirror_mode": {
    "name": "ipython",
    "version": 3
   },
   "file_extension": ".py",
   "mimetype": "text/x-python",
   "name": "python",
   "nbconvert_exporter": "python",
   "pygments_lexer": "ipython3",
   "version": "3.6.3"
  }
 },
 "nbformat": 4,
 "nbformat_minor": 2
}
